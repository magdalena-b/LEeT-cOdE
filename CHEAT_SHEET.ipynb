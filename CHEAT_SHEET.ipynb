{
 "cells": [
  {
   "cell_type": "markdown",
   "id": "2d36529f",
   "metadata": {},
   "source": [
    "# Hash map"
   ]
  },
  {
   "cell_type": "code",
   "execution_count": 7,
   "id": "1fc476a5",
   "metadata": {},
   "outputs": [
    {
     "name": "stdout",
     "output_type": "stream",
     "text": [
      "True\n",
      "True\n"
     ]
    }
   ],
   "source": [
    "dict = {}\n",
    "dict[\"lol\"] = 1\n",
    "dict[\"lol2\"] = 2\n",
    "print(1 in dict.values())\n",
    "print(\"lol\" in dict.keys())"
   ]
  },
  {
   "cell_type": "code",
   "execution_count": 14,
   "id": "515c9798",
   "metadata": {},
   "outputs": [
    {
     "name": "stdout",
     "output_type": "stream",
     "text": [
      "lol 1\n",
      "lol2 2\n"
     ]
    }
   ],
   "source": [
    "for key, value in dict.items():\n",
    "    print(str(key) + \" \" + str(value))"
   ]
  },
  {
   "cell_type": "markdown",
   "id": "bdc90736",
   "metadata": {},
   "source": [
    "# Graphs "
   ]
  },
  {
   "cell_type": "code",
   "execution_count": 17,
   "id": "f169e4bc",
   "metadata": {},
   "outputs": [],
   "source": [
    "# https://www.researchgate.net/figure/An-undirected-graph-with-7-nodes-and-7-edges_fig3_265428782\n",
    "\n",
    "graph = {\n",
    "    1: [2, 4],\n",
    "    2: [1, 3],\n",
    "    3: [2, 5],\n",
    "    4: [1],\n",
    "    5: [3, 6, 7],\n",
    "    6: [5],\n",
    "    7: [5]\n",
    "}"
   ]
  },
  {
   "cell_type": "markdown",
   "id": "789ce00c",
   "metadata": {},
   "source": [
    "## DFS"
   ]
  },
  {
   "cell_type": "code",
   "execution_count": 33,
   "id": "e434841b",
   "metadata": {},
   "outputs": [
    {
     "name": "stdout",
     "output_type": "stream",
     "text": [
      "1\n",
      "4\n",
      "2\n",
      "3\n",
      "5\n",
      "7\n",
      "6\n"
     ]
    }
   ],
   "source": [
    "from collections import deque\n",
    "\n",
    "visited = set()\n",
    "stack = deque()\n",
    "\n",
    "i = 1\n",
    "stack.appendleft(i)\n",
    "    \n",
    "while stack:\n",
    "    current = stack.popleft()\n",
    "    if current in visited:\n",
    "        continue\n",
    "    print(current)\n",
    "    visited.add(current)\n",
    "    for neighbour in graph[current]:\n",
    "        stack.appendleft(neighbour)"
   ]
  },
  {
   "cell_type": "markdown",
   "id": "c1813fa1",
   "metadata": {},
   "source": [
    "## BFS"
   ]
  },
  {
   "cell_type": "code",
   "execution_count": 36,
   "id": "62c3d39c",
   "metadata": {},
   "outputs": [
    {
     "name": "stdout",
     "output_type": "stream",
     "text": [
      "1\n",
      "2\n",
      "4\n",
      "3\n",
      "5\n",
      "6\n",
      "7\n"
     ]
    }
   ],
   "source": [
    "from collections import deque\n",
    "\n",
    "visited = set()\n",
    "queue = deque()\n",
    "\n",
    "i = 1\n",
    "queue.append(i)\n",
    "\n",
    "while queue:\n",
    "    current = queue.popleft()\n",
    "    if current in visited:\n",
    "        continue\n",
    "    print(current)\n",
    "    visited.add(current)\n",
    "    for neighbour in graph[current]:\n",
    "        queue.append(neighbour)"
   ]
  },
  {
   "cell_type": "code",
   "execution_count": null,
   "id": "15edf4ef",
   "metadata": {},
   "outputs": [],
   "source": [
    "# https://careerkarma.com/blog/binary-search-python/?fbclid=IwAR1-oomaBD9lWk0qyecD_yOG06DEW0k0_QQToMWUxAgn1G8YVCESdFnpHkA\n",
    "\n",
    "def findValue(numbers, number_to_find):\n",
    "\tlow = 0\n",
    "\thigh = len(listnumbers - 1\n",
    "\n",
    "\twhile low <= high:\n",
    "\t\tmiddle = low + (high - low) // 2\n",
    "\n",
    "\t\tif numbers[middle] == number_to_find:\n",
    "\t\t\treturn middle\n",
    "\t\telif numbers[middle] < number_to_find:\n",
    "\t\t\tlow = middle + 1\n",
    "\t\telse:\n",
    "\t\t\thigh = middle - 1\n",
    "\treturn -1"
   ]
  }
 ],
 "metadata": {
  "kernelspec": {
   "display_name": "Python 3 (ipykernel)",
   "language": "python",
   "name": "python3"
  },
  "language_info": {
   "codemirror_mode": {
    "name": "ipython",
    "version": 3
   },
   "file_extension": ".py",
   "mimetype": "text/x-python",
   "name": "python",
   "nbconvert_exporter": "python",
   "pygments_lexer": "ipython3",
   "version": "3.9.10"
  }
 },
 "nbformat": 4,
 "nbformat_minor": 5
}

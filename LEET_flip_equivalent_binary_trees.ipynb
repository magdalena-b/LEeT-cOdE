{
 "cells": [
  {
   "cell_type": "markdown",
   "id": "c1a48e40",
   "metadata": {},
   "source": [
    "https://leetcode.com/problems/flip-equivalent-binary-trees/"
   ]
  },
  {
   "cell_type": "code",
   "execution_count": 1,
   "id": "45da0946",
   "metadata": {},
   "outputs": [],
   "source": [
    "class TreeNode:\n",
    "    def __init__(self, val=0, left=None, right=None):\n",
    "        self.val = val\n",
    "        self.left = left\n",
    "        self.right = right"
   ]
  },
  {
   "cell_type": "code",
   "execution_count": null,
   "id": "3d0e3ccd",
   "metadata": {},
   "outputs": [],
   "source": [
    "# flip = and swap the left and right child subtrees\n",
    "# tzn tylko lewe i prawe dziecko sie zmieniaja\n",
    "\n",
    "# Input: root1 = [1,2,3,4,5,6,null,null,null,7,8], \n",
    "#  root2 = [1,3,2,null,6,4,5,null,null,null,null,8,7]\n",
    "# Output: true\n",
    "# Explanation: We flipped at nodes with values 1, 3, and 5."
   ]
  },
  {
   "cell_type": "code",
   "execution_count": null,
   "id": "1fa12f6c",
   "metadata": {},
   "outputs": [],
   "source": [
    "# [1, 2, 3, 4, 5, 6, 7, 8]\n",
    "# root -> 1 -> idx = 0\n",
    "# [2, 3] -> idx = 1, 2\n",
    "# [4, 5, 6, 7] -> idx = 3, 4, 5, 6\n",
    "# [8] -> idx = 7\n",
    "\n",
    "# def left_child(n):\n",
    "#     return 2*n + 1\n",
    "\n",
    "# def right_child(n):\n",
    "#     return 2*n + 2\n",
    "\n",
    "# def walk_tree(n, length):\n",
    "#     if n > length:\n",
    "#         return\n",
    "\n",
    "# def flip(node):\n",
    "#     left = node.left\n",
    "#     right = node.right\n",
    "#     node.left = right\n",
    "#     node.right = left"
   ]
  },
  {
   "cell_type": "markdown",
   "id": "6a6e8c1e",
   "metadata": {},
   "source": [
    "https://www.youtube.com/watch?v=izRDc1il9Pk&ab_channel=NeetCode"
   ]
  },
  {
   "cell_type": "code",
   "execution_count": null,
   "id": "f6964f48",
   "metadata": {},
   "outputs": [],
   "source": [
    "def are_trees_flip_equivalent(TreeNode tree1, TreeNode tree2):\n",
    "    if tree1 is null:\n",
    "        return tree2 is null\n",
    "    if tree2 is null:\n",
    "        return tree1 is null\n",
    "    \n",
    "    if tree1.val != tree2.val:\n",
    "        return False\n",
    "    \n",
    "    a = are_trees_flip_equivalent(tree1.left, tree2.left) and are_trees_flip_equivalent(tree1.right, tree2.right)\n",
    "    b = are_trees_flip_equivalent(tree1.left, tree2.right) and are_trees_flip_equivalent(tree1.right, tree2.left)\n",
    "    \n",
    "    return a or b\n",
    "    \n",
    "    \n",
    "    "
   ]
  }
 ],
 "metadata": {
  "kernelspec": {
   "display_name": "Python 3 (ipykernel)",
   "language": "python",
   "name": "python3"
  },
  "language_info": {
   "codemirror_mode": {
    "name": "ipython",
    "version": 3
   },
   "file_extension": ".py",
   "mimetype": "text/x-python",
   "name": "python",
   "nbconvert_exporter": "python",
   "pygments_lexer": "ipython3",
   "version": "3.9.9"
  }
 },
 "nbformat": 4,
 "nbformat_minor": 5
}

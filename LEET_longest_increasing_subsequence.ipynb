{
 "cells": [
  {
   "cell_type": "markdown",
   "id": "d63230ed",
   "metadata": {},
   "source": [
    "https://leetcode.com/problems/longest-increasing-subsequence/"
   ]
  },
  {
   "cell_type": "code",
   "execution_count": 2,
   "id": "6ec9754a",
   "metadata": {},
   "outputs": [],
   "source": [
    "nums = [10,9,2,5,3,7,101,18]\n",
    "# return only length, not the result array\n",
    "# [2, 3, 7, 101], 4\n",
    "\n",
    "# elements don't have to be consecutive\n",
    "# nlogn as follow up\n",
    "\n",
    "\n",
    "# dYnoO\n",
    "\n",
    "# brute force\n",
    "# each element as a starting point\n",
    "# for each element = starting point we iterate over the remaining elements\n",
    "# we use current variable, which initially equals the value of starting_point\n",
    "# with each iteration, if we see a value bigger than current, we update current = nums[i]\n",
    "# and result += 1 and we iterate over the remaining elements\n",
    "\n",
    "# so it would be like:\n",
    "# current = 10, result = 1 we go through [9,2,5,3,7,101,18]\n",
    "# we see 9, 2, all not bigger, then we see 101\n",
    "# current = 101, result = 2, we see 2 - no\n",
    "# the end\n",
    "\n",
    "# then we'd do it all over again with starting_point = 2\n",
    "# bla\n",
    "# time complexity: n times: [n, n-1, n-2, ..., 1] -> n^2 // to verify\n",
    "\n",
    "# we want better\n",
    "#set up dp\n",
    "\n",
    "# dp will maybe be: \n",
    "# len(dp) = len(nums)\n",
    "# we want to use dp concept -> building ith solution based on (i-1)th solution"
   ]
  },
  {
   "cell_type": "code",
   "execution_count": null,
   "id": "468eddbe",
   "metadata": {},
   "outputs": [],
   "source": [
    "# TURBO FORCE"
   ]
  },
  {
   "cell_type": "code",
   "execution_count": 5,
   "id": "57169bc6",
   "metadata": {},
   "outputs": [],
   "source": [
    "dp = [1 for _ in range(len(nums))]\n",
    "\n",
    "for i in range(len(nums)):\n",
    "    current = nums[i]\n",
    "    for j in range(i+1, len(nums)):\n",
    "        if nums[j] > current:\n",
    "            current = nums[j]\n",
    "            dp[i] += 1"
   ]
  },
  {
   "cell_type": "code",
   "execution_count": 7,
   "id": "174c8384",
   "metadata": {},
   "outputs": [
    {
     "name": "stdout",
     "output_type": "stream",
     "text": [
      "[2, 2, 4, 3, 3, 2, 1, 1]\n",
      "4\n"
     ]
    }
   ],
   "source": [
    "print(dp)\n",
    "print(max(dp))"
   ]
  },
  {
   "cell_type": "code",
   "execution_count": null,
   "id": "678cb19c",
   "metadata": {},
   "outputs": [],
   "source": [
    "# sMarT"
   ]
  },
  {
   "cell_type": "code",
   "execution_count": null,
   "id": "23e0ba08",
   "metadata": {},
   "outputs": [],
   "source": [
    "dp = [1 for _ in range(len(nums))]\n",
    "\n",
    "for i in range(len(nums)):\n",
    "    current = nums[i]\n",
    "    for j in range(i+1, len(nums)):\n",
    "        if nums[j] > current:\n",
    "            current = nums[j]\n",
    "            dp[i] += 1"
   ]
  },
  {
   "cell_type": "code",
   "execution_count": null,
   "id": "efc34c22",
   "metadata": {},
   "outputs": [],
   "source": [
    "print(dp)"
   ]
  },
  {
   "cell_type": "code",
   "execution_count": 16,
   "id": "ea5b83fb",
   "metadata": {},
   "outputs": [
    {
     "name": "stdout",
     "output_type": "stream",
     "text": [
      "[10, 9, 2, 5, 3, 7, 101, 18]\n"
     ]
    }
   ],
   "source": [
    "print(nums)"
   ]
  },
  {
   "cell_type": "code",
   "execution_count": 17,
   "id": "75fc3662",
   "metadata": {},
   "outputs": [
    {
     "name": "stdout",
     "output_type": "stream",
     "text": [
      "defaultdict(<class 'int'>, {10: 0, 9: 1, 2: 2, 5: 3, 3: 4, 7: 5, 101: 6, 18: 7})\n",
      "[2, 3, 5, 7, 9, 10, 18, 101]\n",
      "[2, 4, 3, 5, 1, 0, 7, 6]\n"
     ]
    }
   ],
   "source": [
    "import collections\n",
    "\n",
    "slownik = collections.defaultdict(int)\n",
    "\n",
    "for i in range(len(nums)):\n",
    "    slownik[nums[i]] = i\n",
    "\n",
    "print(slownik)\n",
    "print(sorted(nums))\n",
    "\n",
    "idx = []\n",
    "for element in sorted(nums):\n",
    "    idx.append(slownik[element])\n",
    "print(idx)"
   ]
  },
  {
   "cell_type": "code",
   "execution_count": 18,
   "id": "a079418a",
   "metadata": {},
   "outputs": [],
   "source": [
    "# binary search is logn !!!111111"
   ]
  },
  {
   "cell_type": "code",
   "execution_count": 19,
   "id": "e47625e4",
   "metadata": {},
   "outputs": [],
   "source": [
    "\n",
    "# and maybe sorting in nlogn - will be added up to 2nlogn = nlogn\n",
    "# n * logn -> for each element perform binary search\n",
    "\n",
    "# what do we want to find??\n",
    "\n",
    "\n",
    "# for i in range(len(nums)):\n",
    "    "
   ]
  },
  {
   "cell_type": "markdown",
   "id": "7d78f324",
   "metadata": {},
   "source": [
    "https://www.geeksforgeeks.org/longest-monotonically-increasing-subsequence-size-n-log-n/\n",
    "\n",
    "https://en.wikipedia.org/wiki/Patience_sorting"
   ]
  },
  {
   "cell_type": "code",
   "execution_count": null,
   "id": "67600837",
   "metadata": {},
   "outputs": [],
   "source": [
    "# jakby sliding window:\n",
    "# idziemy po tablicy, mamy end_candidates\n",
    "\n",
    "\n",
    "# chcemy jak najdluzsze ciagi, wiec w naszym interesie jest zeby przerwy = dystanse miedzy elementami byly jak najdluzsze\n",
    "# nie chcemy zepsuc obecnych result candidate'ow, ale tez nie zlewamy nowego\n",
    "\n",
    "# jeśli current jesli \"szerszy\" niz left/right -> fajnie i niefajnie\n",
    "# tworzy nam dluzszy result, ale tez sie rozpycha i elementy o value miedzy (poprzedni end, current end) juz nie wejda\n",
    "\n",
    "# trzymamy stare listy\n",
    "# usuwamy gdy:\n",
    "# wiemy ze nie bedzie lepsza tzn jest inna lista o tej samej dlugosci ale mniej rozepchana -> wtedy ma potencjal\n",
    "# byc dluzsza niz ta usuwana albo przynajmniej tak samo dluga\n",
    "\n",
    "\n",
    "# nie trzeba nic sortowac beforehand\n",
    "# po nums idziemy raz, dodatkowy czas zajmuje iscie po listach wynikowych - binary searh po listach"
   ]
  }
 ],
 "metadata": {
  "kernelspec": {
   "display_name": "Python 3 (ipykernel)",
   "language": "python",
   "name": "python3"
  },
  "language_info": {
   "codemirror_mode": {
    "name": "ipython",
    "version": 3
   },
   "file_extension": ".py",
   "mimetype": "text/x-python",
   "name": "python",
   "nbconvert_exporter": "python",
   "pygments_lexer": "ipython3",
   "version": "3.9.9"
  }
 },
 "nbformat": 4,
 "nbformat_minor": 5
}

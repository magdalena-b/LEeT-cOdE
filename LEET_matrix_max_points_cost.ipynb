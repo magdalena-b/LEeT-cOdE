{
 "cells": [
  {
   "cell_type": "markdown",
   "id": "a7e4290d",
   "metadata": {},
   "source": [
    "https://leetcode.com/problems/maximum-number-of-points-with-cost/"
   ]
  },
  {
   "cell_type": "code",
   "execution_count": null,
   "id": "d9a37b36",
   "metadata": {},
   "outputs": [],
   "source": [
    "# bierzemy punkty:\n",
    "# jedna komorka z kazdego wiersza\n",
    "# koszt - odleglosc kolumnowa\n",
    "\n",
    "\n",
    "# dp\n",
    "# turbo force\n",
    "\n",
    "\n",
    "\n",
    "# sprawdzamy wszystko\n",
    "#\n",
    "\n",
    "\n",
    "# dp ~ najlepsze rozwiazanie sklada sie z najlepszych podrozwiozan\n",
    "# tzn jesli jestesmy na 4. row to powinnismy miec najlepsze dojscie do 4. row ogarniete i myslimy juz tyko nad >= 5\n",
    "\n",
    "# ale:\n",
    "# sciezka do 4. row mowi nam zebysmy byli w kolumnie 3.\n",
    "\n",
    "# a w >= 5. jest jakos tak ze lepiej by bylo jakbysmy byli na 4. kolumnie\n",
    "\n",
    "## koncowy row:\n",
    "# dp[row[i] = max(element's value + dp[row[i-1][previous_eleent]] - cost(row[i][element], row[i-1][previouselement]), ... -> all previous elements)\n",
    "\n",
    "# gdyby sprawdzac wszystkie zgodnie z powyzszym dp molgby byc time exceeded\n",
    "\n",
    "#"
   ]
  },
  {
   "cell_type": "code",
   "execution_count": 1,
   "id": "4cb42a21",
   "metadata": {},
   "outputs": [],
   "source": [
    "points = [[1,2,3],[1,5,1],[3,1,1]]"
   ]
  },
  {
   "cell_type": "code",
   "execution_count": null,
   "id": "4208157e",
   "metadata": {},
   "outputs": [],
   "source": [
    "current_column = -1\n",
    "\n",
    "\n"
   ]
  },
  {
   "cell_type": "markdown",
   "id": "c0d5a772",
   "metadata": {},
   "source": [
    "https://www.youtube.com/watch?v=STEJHYc9rMw&ab_channel=HappyCoding"
   ]
  },
  {
   "cell_type": "code",
   "execution_count": null,
   "id": "506a934f",
   "metadata": {},
   "outputs": [],
   "source": [
    "# left AND right dp tables\n",
    "\n",
    "# \"optimum path could come from the left and could come from the right, between the left and right we get the bigger one\""
   ]
  }
 ],
 "metadata": {
  "kernelspec": {
   "display_name": "Python 3 (ipykernel)",
   "language": "python",
   "name": "python3"
  },
  "language_info": {
   "codemirror_mode": {
    "name": "ipython",
    "version": 3
   },
   "file_extension": ".py",
   "mimetype": "text/x-python",
   "name": "python",
   "nbconvert_exporter": "python",
   "pygments_lexer": "ipython3",
   "version": "3.9.9"
  }
 },
 "nbformat": 4,
 "nbformat_minor": 5
}

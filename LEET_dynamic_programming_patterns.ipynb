{
 "cells": [
  {
   "cell_type": "markdown",
   "id": "65f6bd10",
   "metadata": {},
   "source": [
    "https://www.youtube.com/watch?v=mBNrRy2_hVs&ab_channel=NeetCode"
   ]
  },
  {
   "cell_type": "markdown",
   "id": "1c07175b",
   "metadata": {},
   "source": [
    "# Coin Change"
   ]
  },
  {
   "cell_type": "markdown",
   "id": "2d535629",
   "metadata": {},
   "source": [
    "https://www.youtube.com/watch?v=H9bfqozjoqs&ab_channel=NeetCode"
   ]
  },
  {
   "cell_type": "code",
   "execution_count": null,
   "id": "fff307fc",
   "metadata": {},
   "outputs": [],
   "source": [
    "# each coin can be used multiple times\n",
    "# exact amount"
   ]
  },
  {
   "cell_type": "code",
   "execution_count": 16,
   "id": "9660920a",
   "metadata": {},
   "outputs": [
    {
     "name": "stdout",
     "output_type": "stream",
     "text": [
      "[0, 1, 2, 1, 1, 1, 2, 2]\n"
     ]
    }
   ],
   "source": [
    "coins = [1, 3, 4, 5]\n",
    "amount = 7\n",
    "\n",
    "# kazde dp[x] to minimalna ilosc monet jaka potrzeba zeby zsumowac do x\n",
    "# dp[0] = 0\n",
    "# dp[1] = 1\n",
    "\n",
    "# dp[7] = 1 + dp[6] # 1 jako coin \n",
    "# dp[amount] = coin + dp[amount - coin]\n",
    "\n",
    "# moze sie nie dac zbudowac konkretnej sum, np 2\n",
    "\n",
    "import sys\n",
    "\n",
    "dp = [amount + 1 for _ in range(amount + 1)]\n",
    "dp[0] = 0\n",
    "\n",
    "# for coin in coins:\n",
    "#     dp[coin] = 1\n",
    "    \n",
    "# for coin in coins:\n",
    "#     current = 0\n",
    "    \n",
    "#     if current < dp[i]:\n",
    "#         dp[i] = current\n",
    "\n",
    "\n",
    "for current_amount in range(amount + 1):\n",
    "    for coin in coins:\n",
    "        if amount - coin >= 0:\n",
    "            if dp[current_amount - coin] + 1 < dp[current_amount]:\n",
    "                dp[current_amount] = dp[current_amount - coin] + 1\n",
    "        \n",
    "    \n",
    "print(dp)"
   ]
  }
 ],
 "metadata": {
  "kernelspec": {
   "display_name": "Python 3 (ipykernel)",
   "language": "python",
   "name": "python3"
  },
  "language_info": {
   "codemirror_mode": {
    "name": "ipython",
    "version": 3
   },
   "file_extension": ".py",
   "mimetype": "text/x-python",
   "name": "python",
   "nbconvert_exporter": "python",
   "pygments_lexer": "ipython3",
   "version": "3.9.9"
  }
 },
 "nbformat": 4,
 "nbformat_minor": 5
}

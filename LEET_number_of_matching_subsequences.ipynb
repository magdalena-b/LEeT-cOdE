{
 "cells": [
  {
   "cell_type": "markdown",
   "id": "23633372",
   "metadata": {},
   "source": [
    "https://leetcode.com/problems/number-of-matching-subsequences/"
   ]
  },
  {
   "cell_type": "code",
   "execution_count": null,
   "id": "f96aa471",
   "metadata": {},
   "outputs": [],
   "source": [
    "# Given a string s and an array of strings words, return the number of words[i] that is a subsequence of s."
   ]
  },
  {
   "cell_type": "code",
   "execution_count": 2,
   "id": "f8fdc001",
   "metadata": {},
   "outputs": [],
   "source": [
    "s = \"abcde\" \n",
    "words = [\"a\",\"bb\",\"acd\",\"ace\"]"
   ]
  },
  {
   "cell_type": "code",
   "execution_count": null,
   "id": "c5a62166",
   "metadata": {},
   "outputs": [],
   "source": [
    "# A subsequence of a string is a new string generated from the original string with some characters (can be none) deleted \n",
    "# without changing the relative order of the remaining characters.\n",
    "\n",
    "# For example, \"ace\" is a subsequence of \"abcde\"."
   ]
  },
  {
   "cell_type": "code",
   "execution_count": null,
   "id": "177a80de",
   "metadata": {},
   "outputs": [],
   "source": [
    "# abcde\n",
    "# bb\n",
    "# a != b, bcde\n",
    "# b = b, dalej\n",
    "# c ! =  b\n",
    "# d ! = b\n",
    "# e != b\n",
    "\n",
    "# ale i tak gdyby ostatnie char byly ==, to jeszcze musimy porownac ostateczne wersje"
   ]
  },
  {
   "cell_type": "code",
   "execution_count": 10,
   "id": "ccb21b31",
   "metadata": {},
   "outputs": [
    {
     "name": "stdout",
     "output_type": "stream",
     "text": [
      "a    abcde\n",
      "bb    bde\n",
      "acd    acde\n",
      "ace    ace\n"
     ]
    }
   ],
   "source": [
    "result = []\n",
    "\n",
    "for word in words:\n",
    "    current_s = s\n",
    "    for i in range(len(word)):\n",
    "        if word[i] == current_s[i]:\n",
    "            continue\n",
    "        else:\n",
    "            current_s = current_s[:i] + current_s[i+1:]\n",
    "    print(word + \"    \" + current_s)\n",
    "    current_s = current_s[:len(word)]\n",
    "    if word == current_s:\n",
    "        result.append(word)"
   ]
  },
  {
   "cell_type": "code",
   "execution_count": 11,
   "id": "aa194f71",
   "metadata": {},
   "outputs": [
    {
     "name": "stdout",
     "output_type": "stream",
     "text": [
      "['a', 'acd', 'ace']\n"
     ]
    }
   ],
   "source": [
    "print(result)"
   ]
  }
 ],
 "metadata": {
  "kernelspec": {
   "display_name": "Python 3 (ipykernel)",
   "language": "python",
   "name": "python3"
  },
  "language_info": {
   "codemirror_mode": {
    "name": "ipython",
    "version": 3
   },
   "file_extension": ".py",
   "mimetype": "text/x-python",
   "name": "python",
   "nbconvert_exporter": "python",
   "pygments_lexer": "ipython3",
   "version": "3.9.9"
  }
 },
 "nbformat": 4,
 "nbformat_minor": 5
}

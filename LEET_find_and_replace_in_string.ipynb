{
 "cells": [
  {
   "cell_type": "markdown",
   "id": "dff6aa66",
   "metadata": {},
   "source": [
    "https://leetcode.com/problems/find-and-replace-in-string/"
   ]
  },
  {
   "cell_type": "code",
   "execution_count": null,
   "id": "d78f41fb",
   "metadata": {},
   "outputs": [],
   "source": [
    "# replacements will be overlapping when  index1 + length(replacement) >= index2"
   ]
  },
  {
   "cell_type": "code",
   "execution_count": 8,
   "id": "4b1705cf",
   "metadata": {},
   "outputs": [],
   "source": [
    "s = \"abcd\" \n",
    "indices = [0, 2] \n",
    "sources = [\"a\", \"cd\"] \n",
    "targets = [\"eee\", \"ffff\"]"
   ]
  },
  {
   "cell_type": "code",
   "execution_count": null,
   "id": "28d9de43",
   "metadata": {},
   "outputs": [],
   "source": [
    "# all 3 input tables are of length k\n",
    "\n",
    "# all changes simultaneously\n",
    "# check if s[index] starts a substring in sources if true then replace it with targets\n",
    "\n",
    "\n",
    "# All replacement operations must occur simultaneously, meaning the replacement operations should not affect the indexing of each other. \n",
    "# The testcases will be generated such that the replacements will not overlap.\n",
    "\n",
    "# For example, a testcase with s = \"abc\", indices = [0, 1], and sources = [\"ab\",\"bc\"] \n",
    "# will not be generated because the \"ab\" and \"bc\" replacements overlap.\n",
    "\n",
    "\n",
    "# A substring is a contiguous sequence of characters in a string."
   ]
  },
  {
   "cell_type": "code",
   "execution_count": null,
   "id": "dbb6ea98",
   "metadata": {},
   "outputs": [],
   "source": [
    "# SO WE CAN ASSUME THAT no overlaps\n",
    "\n",
    "# we could slice a string with indices"
   ]
  },
  {
   "cell_type": "code",
   "execution_count": 10,
   "id": "848f4749",
   "metadata": {},
   "outputs": [
    {
     "name": "stdout",
     "output_type": "stream",
     "text": [
      "['ab', 'cd']\n"
     ]
    }
   ],
   "source": [
    "slices = []\n",
    "\n",
    "for i in range(0, len(indices) - 1):\n",
    "    slices.append(s[indices[i]:indices[i+1]])\n",
    "slices.append(s[indices[-1]:])    \n",
    "\n",
    "print(slices)"
   ]
  },
  {
   "cell_type": "code",
   "execution_count": 21,
   "id": "cc62e58a",
   "metadata": {},
   "outputs": [],
   "source": [
    "k = len(indices)\n",
    "result = []\n",
    "\n",
    "for i in range(0, k):\n",
    "    if slices[i][:len(sources[i])] == sources[i]:\n",
    "        result.append(targets[i])\n",
    "        if len(slices[i]) > len(sources[i]):\n",
    "            result.append(slices[i][i + len(slices[i]) - len(sources[i]):])\n",
    "            \n",
    "result_string = ''.join(result)"
   ]
  },
  {
   "cell_type": "code",
   "execution_count": 22,
   "id": "cda68066",
   "metadata": {},
   "outputs": [
    {
     "name": "stdout",
     "output_type": "stream",
     "text": [
      "eeebffff\n"
     ]
    }
   ],
   "source": [
    "print(result_string)"
   ]
  }
 ],
 "metadata": {
  "kernelspec": {
   "display_name": "Python 3 (ipykernel)",
   "language": "python",
   "name": "python3"
  },
  "language_info": {
   "codemirror_mode": {
    "name": "ipython",
    "version": 3
   },
   "file_extension": ".py",
   "mimetype": "text/x-python",
   "name": "python",
   "nbconvert_exporter": "python",
   "pygments_lexer": "ipython3",
   "version": "3.9.9"
  }
 },
 "nbformat": 4,
 "nbformat_minor": 5
}

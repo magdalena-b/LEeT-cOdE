{
 "cells": [
  {
   "cell_type": "markdown",
   "id": "612cee30",
   "metadata": {},
   "source": [
    "https://www.youtube.com/watch?v=wL05dKQmgjA&ab_channel=HappyCoding"
   ]
  },
  {
   "cell_type": "code",
   "execution_count": 82,
   "id": "e4ea0d48",
   "metadata": {},
   "outputs": [],
   "source": [
    "# INPUT\n",
    "target_path = ['ATL', 'DXB', 'HND', 'LAX']\n",
    "roads = [[0, 2], [0, 3], [1, 2], [1, 3], [1, 4], [2, 4]]\n",
    "names = ['ATL', 'PEK', 'LAX', 'DXB', 'HND']\n",
    "n = 5"
   ]
  },
  {
   "cell_type": "code",
   "execution_count": 83,
   "id": "ac4c98dd",
   "metadata": {},
   "outputs": [
    {
     "name": "stdout",
     "output_type": "stream",
     "text": [
      "defaultdict(<class 'list'>, {})\n"
     ]
    }
   ],
   "source": [
    "import collections\n",
    "\n",
    "graph = collections.defaultdict(list)\n",
    "m = len(target_path)\n",
    "print(graph)"
   ]
  },
  {
   "cell_type": "code",
   "execution_count": 96,
   "id": "7ede4fb1",
   "metadata": {},
   "outputs": [
    {
     "name": "stdout",
     "output_type": "stream",
     "text": [
      "defaultdict(<class 'list'>, {0: [0, 0, 0, 0, 2, 3], 2: [2, 2, 2, 2, 2, 2, 0, 1, 4], 3: [3, 3, 3, 3, 0, 1], 1: [1, 1, 1, 1, 1, 1, 2, 3, 4], 4: [4, 4, 4, 4, 1, 2]})\n"
     ]
    }
   ],
   "source": [
    "for u, v in roads:\n",
    "    graph[u].append(v)\n",
    "    graph[v].append(u)\n",
    "    \n",
    "print(graph)"
   ]
  },
  {
   "cell_type": "code",
   "execution_count": 97,
   "id": "f3355285",
   "metadata": {},
   "outputs": [],
   "source": [
    "import sys\n",
    "\n",
    "dp = [[sys.maxsize] * n for _ in range(m+1)]\n",
    "parents = [[-1] * n for _ in range(m+1)]"
   ]
  },
  {
   "cell_type": "code",
   "execution_count": 98,
   "id": "5248806f",
   "metadata": {},
   "outputs": [
    {
     "name": "stdout",
     "output_type": "stream",
     "text": [
      "[[9223372036854775807, 9223372036854775807, 9223372036854775807, 9223372036854775807, 9223372036854775807], [9223372036854775807, 9223372036854775807, 9223372036854775807, 9223372036854775807, 9223372036854775807], [9223372036854775807, 9223372036854775807, 9223372036854775807, 9223372036854775807, 9223372036854775807], [9223372036854775807, 9223372036854775807, 9223372036854775807, 9223372036854775807, 9223372036854775807], [9223372036854775807, 9223372036854775807, 9223372036854775807, 9223372036854775807, 9223372036854775807]]\n"
     ]
    }
   ],
   "source": [
    "print(dp)"
   ]
  },
  {
   "cell_type": "markdown",
   "id": "7b138352",
   "metadata": {},
   "source": [
    "sciezki 5-krokowe -> dla każdego kroku bierzemy wszystkie node'y\n",
    "budowa tablicy DP:\n",
    "    - w danym kroku dla danego wierzchołka szukamy somsiada który ma dotychczas-minimalną wartość"
   ]
  },
  {
   "cell_type": "markdown",
   "id": "29f9874c",
   "metadata": {},
   "source": [
    "w tablicy dp są: dla każdego wierzchołka \"minimalne\" ścieżki: 0-krokowe (zawsze cost = 0), 1-krokowe (tutaj: albo 0 albo 1 -> albo pierwsze miasto jest targetowym albo nie), ..., m-krokowe tzn. ścieżki których faktycznie szukamy, więc wśród nich szukamy wartości z min cost"
   ]
  },
  {
   "cell_type": "code",
   "execution_count": 108,
   "id": "9eade04d",
   "metadata": {},
   "outputs": [],
   "source": [
    "# jeśli element nie może być > 1 w ścieżce\n",
    "current_path = [[set()] * n for _ in range(m+1)]"
   ]
  },
  {
   "cell_type": "code",
   "execution_count": 99,
   "id": "c8cf9710",
   "metadata": {},
   "outputs": [],
   "source": [
    "# zawsze 0, bo dp[0][x] to nie \n",
    "\n",
    "for v in range(n):\n",
    "    dp[0][v] = 0"
   ]
  },
  {
   "cell_type": "code",
   "execution_count": 100,
   "id": "a1704596",
   "metadata": {},
   "outputs": [
    {
     "name": "stdout",
     "output_type": "stream",
     "text": [
      "[[0, 0, 0, 0, 0], [9223372036854775807, 9223372036854775807, 9223372036854775807, 9223372036854775807, 9223372036854775807], [9223372036854775807, 9223372036854775807, 9223372036854775807, 9223372036854775807, 9223372036854775807], [9223372036854775807, 9223372036854775807, 9223372036854775807, 9223372036854775807, 9223372036854775807], [9223372036854775807, 9223372036854775807, 9223372036854775807, 9223372036854775807, 9223372036854775807]]\n"
     ]
    }
   ],
   "source": [
    "print(dp)"
   ]
  },
  {
   "cell_type": "code",
   "execution_count": 101,
   "id": "2c3da750",
   "metadata": {},
   "outputs": [],
   "source": [
    "for i in range(1, m + 1):\n",
    "    for v in range(n):\n",
    "        for u in graph[v]:\n",
    "            if dp[i-1][u] < dp[i][v]:\n",
    "                dp[i][v] = dp[i-1][u]\n",
    "                parents[i][v] = u\n",
    "                \n",
    "        dp[i][v] += 1 if names[v] != target_path[i-1] else 0"
   ]
  },
  {
   "cell_type": "code",
   "execution_count": 102,
   "id": "937487fc",
   "metadata": {},
   "outputs": [
    {
     "name": "stdout",
     "output_type": "stream",
     "text": [
      "[[0, 0, 0, 0, 0], [0, 1, 1, 1, 1], [1, 2, 1, 0, 2], [1, 1, 2, 1, 1], [2, 2, 1, 2, 2]]\n"
     ]
    }
   ],
   "source": [
    "print(dp)"
   ]
  },
  {
   "cell_type": "code",
   "execution_count": 103,
   "id": "d84c3c44",
   "metadata": {},
   "outputs": [
    {
     "name": "stdout",
     "output_type": "stream",
     "text": [
      "[[-1, -1, -1, -1, -1], [0, 1, 2, 3, 4], [0, 1, 0, 0, 4], [3, 3, 2, 3, 2], [0, 1, 0, 3, 4]]\n"
     ]
    }
   ],
   "source": [
    "print(parents)"
   ]
  },
  {
   "cell_type": "code",
   "execution_count": 104,
   "id": "415cb7f1",
   "metadata": {},
   "outputs": [
    {
     "name": "stdout",
     "output_type": "stream",
     "text": [
      "2\n",
      "1\n"
     ]
    }
   ],
   "source": [
    "min_distance = sys.maxsize\n",
    "end_city = -1\n",
    "\n",
    "for v in range(n):\n",
    "    if dp[-1][v] < min_distance:\n",
    "        end_city = v\n",
    "        min_distance = dp[-1][v]\n",
    "        \n",
    "print(end_city)\n",
    "print(min_distance)"
   ]
  },
  {
   "cell_type": "code",
   "execution_count": 105,
   "id": "b98634f2",
   "metadata": {},
   "outputs": [
    {
     "name": "stdout",
     "output_type": "stream",
     "text": [
      "0\n",
      "3\n",
      "0\n"
     ]
    }
   ],
   "source": [
    "ans = []\n",
    "ans.append(end_city)\n",
    "\n",
    "for i in range(m, 1, -1): # idziemy do tylu, poczatek musi byc valid indexem, koniec musi byc o jeden wiecej\n",
    "    u = parents[i][ans[-1]] # kolejny wierzcholek (kolejny od lewej): i-ty parent currently-ostatniego elementu\n",
    "    ans.append(u)\n",
    "    print(u)"
   ]
  },
  {
   "cell_type": "code",
   "execution_count": 106,
   "id": "d6724521",
   "metadata": {},
   "outputs": [
    {
     "name": "stdout",
     "output_type": "stream",
     "text": [
      "[0, 3, 0, 2]\n"
     ]
    }
   ],
   "source": [
    "actual_answer = ans[::-1]\n",
    "print(actual_answer)"
   ]
  },
  {
   "cell_type": "code",
   "execution_count": null,
   "id": "4d190d79",
   "metadata": {},
   "outputs": [],
   "source": []
  }
 ],
 "metadata": {
  "kernelspec": {
   "display_name": "Python 3 (ipykernel)",
   "language": "python",
   "name": "python3"
  },
  "language_info": {
   "codemirror_mode": {
    "name": "ipython",
    "version": 3
   },
   "file_extension": ".py",
   "mimetype": "text/x-python",
   "name": "python",
   "nbconvert_exporter": "python",
   "pygments_lexer": "ipython3",
   "version": "3.9.9"
  }
 },
 "nbformat": 4,
 "nbformat_minor": 5
}

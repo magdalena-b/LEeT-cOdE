{
 "cells": [
  {
   "cell_type": "code",
   "execution_count": 1,
   "id": "ebfb6c15",
   "metadata": {},
   "outputs": [],
   "source": [
    "nums = [9,4,1,7]\n",
    "k = 2\n",
    "\n",
    "sorted_nums = [1, 4, 7, 9]\n",
    "\n",
    "chosen = [1, 4] -> 3\n",
    "chosen = [4, 7] -> 3\n",
    "chosen = [7, 9] -> 2"
   ]
  },
  {
   "cell_type": "code",
   "execution_count": null,
   "id": "35af4e5d",
   "metadata": {},
   "outputs": [],
   "source": [
    "nums = [9, 4, 1, 7, 8]\n",
    "k = 3\n",
    "\n",
    "sorted_nums = [1, 4, 7, 8, 9]\n",
    "\n",
    "chosen = [1, 4, 7] -> 6\n",
    "chosen = [4, 7, 8] -> 4\n",
    "chosen = [7, 8, 9] -> 2 -> OK"
   ]
  },
  {
   "cell_type": "code",
   "execution_count": 11,
   "id": "4e73a2a9",
   "metadata": {},
   "outputs": [
    {
     "name": "stdout",
     "output_type": "stream",
     "text": [
      "2\n",
      "[7, 8]\n"
     ]
    }
   ],
   "source": [
    "# SLIDING WINDOW\n",
    "\n",
    "nums = [9, 4, 1, 7, 8]\n",
    "current = 10000\n",
    "chosen = []\n",
    "k = 3\n",
    "sorted_nums = [1, 4, 7, 8, 9]\n",
    "for i in range(0, len(nums)):\n",
    "    if i + k <= len(nums):\n",
    "        if ( sorted_nums[i + k - 1] - sorted_nums[i] < current ):\n",
    "            current = sorted_nums[i + k - 1] - sorted_nums[i]\n",
    "            chosen = sorted_nums[i:i+k-1]\n",
    "\n",
    "print(current)\n",
    "print(chosen)"
   ]
  }
 ],
 "metadata": {
  "kernelspec": {
   "display_name": "Python 3 (ipykernel)",
   "language": "python",
   "name": "python3"
  },
  "language_info": {
   "codemirror_mode": {
    "name": "ipython",
    "version": 3
   },
   "file_extension": ".py",
   "mimetype": "text/x-python",
   "name": "python",
   "nbconvert_exporter": "python",
   "pygments_lexer": "ipython3",
   "version": "3.9.10"
  }
 },
 "nbformat": 4,
 "nbformat_minor": 5
}

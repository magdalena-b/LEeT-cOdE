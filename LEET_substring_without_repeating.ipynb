{
 "cells": [
  {
   "cell_type": "markdown",
   "id": "64f693dc",
   "metadata": {},
   "source": [
    "https://leetcode.com/problems/longest-substring-without-repeating-characters/"
   ]
  },
  {
   "cell_type": "code",
   "execution_count": 9,
   "id": "49953156",
   "metadata": {},
   "outputs": [],
   "source": [
    "s = \"abcabcbb\""
   ]
  },
  {
   "cell_type": "code",
   "execution_count": 10,
   "id": "f88eb98b",
   "metadata": {},
   "outputs": [
    {
     "name": "stdout",
     "output_type": "stream",
     "text": [
      "{'c', 'b', 'a'}\n"
     ]
    }
   ],
   "source": [
    "chars = set()\n",
    "\n",
    "for c in s:\n",
    "    chars.add(c)\n",
    "    \n",
    "print(chars)"
   ]
  },
  {
   "cell_type": "code",
   "execution_count": 15,
   "id": "81d3baef",
   "metadata": {},
   "outputs": [
    {
     "name": "stdout",
     "output_type": "stream",
     "text": [
      "lol\n",
      "lol\n",
      "lol\n",
      "lol\n",
      "lol\n",
      "lol\n",
      "lol\n",
      "3\n"
     ]
    }
   ],
   "source": [
    "longest = 0\n",
    "\n",
    "\n",
    "for i in range(len(s)):\n",
    "    current = 0\n",
    "    current_chars = set()\n",
    "    for j in range (i, len(s)):\n",
    "        if s[j] in current_chars:\n",
    "            print(\"lol\")\n",
    "            break\n",
    "        else:\n",
    "            current_chars.add(s[j])\n",
    "            current += 1\n",
    "    if current > longest:\n",
    "        longest = current\n",
    "        \n",
    "print(longest)\n",
    "    "
   ]
  },
  {
   "cell_type": "code",
   "execution_count": null,
   "id": "c55b1b36",
   "metadata": {},
   "outputs": [],
   "source": []
  }
 ],
 "metadata": {
  "kernelspec": {
   "display_name": "Python 3 (ipykernel)",
   "language": "python",
   "name": "python3"
  },
  "language_info": {
   "codemirror_mode": {
    "name": "ipython",
    "version": 3
   },
   "file_extension": ".py",
   "mimetype": "text/x-python",
   "name": "python",
   "nbconvert_exporter": "python",
   "pygments_lexer": "ipython3",
   "version": "3.9.9"
  }
 },
 "nbformat": 4,
 "nbformat_minor": 5
}

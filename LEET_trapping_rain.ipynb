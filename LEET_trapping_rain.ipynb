{
 "cells": [
  {
   "cell_type": "markdown",
   "id": "1a9ced5c",
   "metadata": {},
   "source": [
    "https://www.youtube.com/watch?v=ZI2z5pq0TqA&ab_channel=NeetCode"
   ]
  },
  {
   "cell_type": "code",
   "execution_count": null,
   "id": "f3877335",
   "metadata": {},
   "outputs": [],
   "source": [
    "height = [0,1,0,2,1,0,1,3,2,1,2,1]\n",
    "\n",
    "\n",
    "# Input: height = [0,1,0,2,1,0,1,3,2,1,2,1]\n",
    "# Output: 6\n",
    "# Explanation: The above elevation map (black section) is represented by array [0,1,0,2,1,0,1,3,2,1,2,1]. \n",
    "# In this case, 6 units of rain water (blue section) are being trapped.\n",
    "# z_woda = [0, 1, 1, 2, 2, 2, 2, 3, 2, 2, 2, 1]"
   ]
  },
  {
   "cell_type": "code",
   "execution_count": 36,
   "id": "244912a7",
   "metadata": {},
   "outputs": [
    {
     "name": "stdout",
     "output_type": "stream",
     "text": [
      "[4, 2, 0, 3, 2, 5]\n",
      "Bars at current_height = 0: [4, 2, 0, 3, 2, 5]\n",
      "Bars at current_height = 0: [4, 4, 4, 4, 4, 5]\n",
      "Bars at current_height = 1: [4, 4, 4, 4, 4, 5]\n",
      "Bars at current_height = 2: [4, 4, 4, 4, 4, 5]\n",
      "Bars at current_height = 3: [4, 4, 4, 4, 4, 5]\n",
      "Bars at current_height = 4: [4, 4, 4, 4, 4, 5]\n",
      "[4, 4, 4, 4, 4, 5]\n",
      "9\n"
     ]
    }
   ],
   "source": [
    "# height = [0,1,0,2,1,0,1,3,2,1,2,1,0]\n",
    "height = [4,2,0,3,2,5]\n",
    "current_height = 1\n",
    "result = 0\n",
    "\n",
    "bars = height\n",
    "\n",
    "\n",
    "print(bars)\n",
    "print(\"Bars at current_height = 0\" + \": \" + str(bars))\n",
    "for current_height in range(max(height)):\n",
    "    for i in range(1, len(height) - 1):\n",
    "        index_of_right_wall = -1\n",
    "        for idx in range(i+1, len(height)):\n",
    "            if bars[idx] > bars[i]:\n",
    "                index_of_right_wall = idx\n",
    "                break\n",
    "        for j in range(i, index_of_right_wall):\n",
    "            if bars[j] < bars[j-1]:\n",
    "                result += bars[j-1] - bars[j]\n",
    "                bars[j] = bars[j-1]\n",
    "    print(\"Bars at current_height = \" + str(current_height) + \": \" + str(bars))\n",
    "            \n",
    "\n",
    "print(bars)\n",
    "print(result)\n"
   ]
  },
  {
   "cell_type": "code",
   "execution_count": null,
   "id": "745b4d80",
   "metadata": {},
   "outputs": [],
   "source": []
  }
 ],
 "metadata": {
  "kernelspec": {
   "display_name": "Python 3 (ipykernel)",
   "language": "python",
   "name": "python3"
  },
  "language_info": {
   "codemirror_mode": {
    "name": "ipython",
    "version": 3
   },
   "file_extension": ".py",
   "mimetype": "text/x-python",
   "name": "python",
   "nbconvert_exporter": "python",
   "pygments_lexer": "ipython3",
   "version": "3.9.9"
  }
 },
 "nbformat": 4,
 "nbformat_minor": 5
}
